{
 "cells": [
  {
   "cell_type": "markdown",
   "metadata": {},
   "source": [
    "# Scaling Up Alpha Zero General (Minichess)\n",
    "\n",
    "\n",
    "## Topics Covered \n",
    "\n",
    "1. Initializing and displaying the Minichess Board\n",
    "2. Checking whether game has ended or not\n",
    "3. Defining players Player 1 and Player 2\n",
    "4. Checking valid moves and mapping moves to Grid Points (to be enhanced to a3g5 format later)\n",
    "5. Play all pieces one by one and validate (Pawn, Rook, King, Queen, Knight and Bishop)\n",
    "6. Check Pawn cross attack\n",
    "7. Check Pawn to reach last move and become Queuen\n",
    "8. Complete the Game and check the winner\n",
    "\n",
    "\n",
    "\n",
    "## Section 1 - Initializing and displaying the Minichess Board\n",
    "\n",
    "\n",
    "- Load inital libraries"
   ]
  },
  {
   "cell_type": "code",
   "execution_count": 1,
   "metadata": {
    "scrolled": true
   },
   "outputs": [
    {
     "name": "stderr",
     "output_type": "stream",
     "text": [
      "c:\\users\\karthik\\appdata\\local\\programs\\python\\python36\\lib\\site-packages\\h5py\\__init__.py:36: FutureWarning: Conversion of the second argument of issubdtype from `float` to `np.floating` is deprecated. In future, it will be treated as `np.float64 == np.dtype(float).type`.\n",
      "  from ._conv import register_converters as _register_converters\n",
      "Using TensorFlow backend.\n"
     ]
    }
   ],
   "source": [
    "from Coach import Coach\n",
    "from minichess.GardnerMiniChessGame import GardnerMiniChessGame as Game\n",
    "from minichess.MiniChessLogic import Board\n",
    "from minichess.keras.NNet import NNetWrapper as nn\n",
    "from utils import *"
   ]
  },
  {
   "cell_type": "markdown",
   "metadata": {},
   "source": [
    "- Load the Game and required Neural Network"
   ]
  },
  {
   "cell_type": "code",
   "execution_count": 2,
   "metadata": {},
   "outputs": [
    {
     "name": "stdout",
     "output_type": "stream",
     "text": [
      "[[-479, -280, -320, -929, -60000], [-100, -100, -100, -100, -100], [0, 0, 0, 0, 0], [100, 100, 100, 100, 100], [479, 280, 320, 929, 60000]]\n"
     ]
    }
   ],
   "source": [
    "g = Game()\n",
    "nnet = nn(g)\n",
    "board = g.getInitBoard()    \n",
    "n = 5 # 5X5 Grid\n",
    "logic = Board(n,board)\n",
    "print(board)"
   ]
  },
  {
   "cell_type": "markdown",
   "metadata": {},
   "source": [
    "## Section 2 - Checking whether game has ended or not\n",
    "\n",
    "- Verify the Canonical and User Board"
   ]
  },
  {
   "cell_type": "code",
   "execution_count": 3,
   "metadata": {},
   "outputs": [
    {
     "name": "stdout",
     "output_type": "stream",
     "text": [
      "\n",
      "  5 ♜ ♞ ♝ ♛ ♚\n",
      "  4 ♟ ♟ ♟ ♟ ♟\n",
      "  3 ·  ·  ·  ·  · \n",
      "  2 ♙ ♙ ♙ ♙ ♙\n",
      "  1 ♖ ♘ ♗ ♕ ♔\n",
      "    a  b  c  d  e  \n",
      "\n",
      "\n"
     ]
    }
   ],
   "source": [
    "player1 = 1\n",
    "player2 = -1\n",
    "g.display(board)"
   ]
  },
  {
   "cell_type": "markdown",
   "metadata": {},
   "source": [
    "- Check whether Game is ended\n",
    "- It should return 0 since Game is still in Valid state"
   ]
  },
  {
   "cell_type": "code",
   "execution_count": 4,
   "metadata": {},
   "outputs": [
    {
     "name": "stdout",
     "output_type": "stream",
     "text": [
      "0\n"
     ]
    }
   ],
   "source": [
    "print(g.getGameEnded(board,player1))"
   ]
  },
  {
   "cell_type": "markdown",
   "metadata": {},
   "source": [
    "## Section 4 - Checking valid moves and mapping moves to Grid Points (to be enhanced to a3g5 format later)\n",
    "\n",
    "- Check the next legal move we can do\n",
    "- It Should list all Pawn moves for White and Horse moves\n",
    "\n",
    "[(36, 29), (37, 30), (38, 31), (39, 32), (40, 33), (44, 29), (44, 31)]\n",
    "\n",
    "\n",
    "\n",
    "Overal Chess Grid 5X5 Looks like this:\n",
    "\n",
    "        # Chess GRID with Padding and Cell Number\n",
    "        # [0,  1,  2,  3,  4,  5,  6]\n",
    "        # [7,  8,  9,  10, 11, 12, 13]\n",
    "\n",
    "        # [14,   15, 16, 17, 18, 19,     20]\n",
    "        # [21,   22, 23, 24, 25, 26,     27]\n",
    "        # [28,   29, 30, 31, 32, 33,     34]\n",
    "        # [35,   36, 37, 38, 39, 40,     41]\n",
    "        # [42,   43, 44, 45, 46, 47,     48]\n",
    "\n",
    "        # [49, 50, 51, 52, 53, 54, 55]\n",
    "        # [56, 57, 58, 59, 60, 61, 62]\n"
   ]
  },
  {
   "cell_type": "code",
   "execution_count": 5,
   "metadata": {},
   "outputs": [
    {
     "name": "stdout",
     "output_type": "stream",
     "text": [
      "\n",
      "All possible moves are: \n",
      "\n",
      "[(36, 29), (37, 30), (38, 31), (39, 32), (40, 33), (44, 29), (44, 31)]\n",
      "\n",
      "  5 ♜ ♞ ♝ ♛ ♚\n",
      "  4 ♟ ♟ ♟ ♟ ♟\n",
      "  3 ·  ·  ·  ·  · \n",
      "  2 ♙ ♙ ♙ ♙ ♙\n",
      "  1 ♖ ♘ ♗ ♕ ♔\n",
      "    a  b  c  d  e  \n",
      "\n",
      "\n"
     ]
    }
   ],
   "source": [
    "print('\\nAll possible moves are: \\n')\n",
    "moves = []\n",
    "for move in logic.get_legal_moves(player1):\n",
    "    moves.append(move)\n",
    "print(moves)\n",
    "g.display(board)    "
   ]
  },
  {
   "cell_type": "markdown",
   "metadata": {},
   "source": [
    "- Execute first move by moving the White Pawn from a2 to a3 \n",
    "\n",
    "move = (36,29)"
   ]
  },
  {
   "cell_type": "code",
   "execution_count": 6,
   "metadata": {},
   "outputs": [
    {
     "name": "stdout",
     "output_type": "stream",
     "text": [
      "\n",
      "  5 ♖ ♘ ♗ ♕ ♔\n",
      "  4 ·  ♙ ♙ ♙ ♙\n",
      "  3 ♙ ·  ·  ·  · \n",
      "  2 ♟ ♟ ♟ ♟ ♟\n",
      "  1 ♜ ♞ ♝ ♛ ♚\n",
      "    a  b  c  d  e  \n",
      "\n",
      "\n"
     ]
    }
   ],
   "source": [
    "logic.execute_move((36,29),player1)\n",
    "g.display(logic.pieces_without_padding())"
   ]
  },
  {
   "cell_type": "markdown",
   "metadata": {},
   "source": [
    "- Assign Player 2 as -1\n",
    "- Get Legal moves for Player 2\n",
    "- Execute one pawn Move"
   ]
  },
  {
   "cell_type": "code",
   "execution_count": 7,
   "metadata": {},
   "outputs": [
    {
     "name": "stdout",
     "output_type": "stream",
     "text": [
      "\n",
      "All possible moves are: \n",
      "\n",
      "[(36, 28), (37, 30), (37, 29), (38, 31), (39, 32), (40, 33), (40, 34), (43, 50), (43, 42), (44, 35), (44, 29), (44, 31), (44, 59), (44, 57), (44, 53), (44, 49), (45, 53), (45, 51), (46, 54), (46, 52), (46, 53), (47, 54), (47, 53), (47, 55), (47, 41), (47, 48)]\n",
      "\n",
      "  5 ♖ ♘ ♗ ♕ ♔\n",
      "  4 ·  ♙ ♙ ♙ ♙\n",
      "  3 ♙ ·  ·  ·  · \n",
      "  2 ♟ ♟ ♟ ♟ ♟\n",
      "  1 ♜ ♞ ♝ ♛ ♚\n",
      "    a  b  c  d  e  \n",
      "\n",
      "\n"
     ]
    }
   ],
   "source": [
    "player2 = -1\n",
    "print('\\nAll possible moves are: \\n')\n",
    "moves = []\n",
    "for move in logic.get_legal_moves(player2):\n",
    "    moves.append(move)\n",
    "print(moves)\n",
    "g.display(logic.pieces_without_padding())"
   ]
  },
  {
   "cell_type": "markdown",
   "metadata": {},
   "source": [
    "## Section 4 - Checking valid moves and mapping moves to Grid Points (to be enhanced to a3g5 format later)\n",
    "\n",
    "Overal Chess Grid 5X5 Looks like this:\n",
    "\n",
    "        # Chess GRID with Padding and Cell Number\n",
    "        # [0,  1,  2,  3,  4,  5,  6]\n",
    "        # [7,  8,  9,  10, 11, 12, 13]\n",
    "\n",
    "        # [14,   15, 16, 17, 18, 19,     20]\n",
    "        # [21,   22, 23, 24, 25, 26,     27]\n",
    "        # [28,   29, 30, 31, 32, 33,     34]\n",
    "        # [35,   36, 37, 38, 39, 40,     41]\n",
    "        # [42,   43, 44, 45, 46, 47,     48]\n",
    "\n",
    "        # [49, 50, 51, 52, 53, 54, 55]\n",
    "        # [56, 57, 58, 59, 60, 61, 62]\n",
    "        \n",
    "Now make a horse move from b1 to a3"
   ]
  },
  {
   "cell_type": "code",
   "execution_count": 8,
   "metadata": {},
   "outputs": [
    {
     "name": "stdout",
     "output_type": "stream",
     "text": [
      "\n",
      "  5 ♜ ·  ♝ ♛ ♚\n",
      "  4 ♟ ♟ ♟ ♟ ♟\n",
      "  3 ♞ ·  ·  ·  · \n",
      "  2 ·  ♙ ♙ ♙ ♙\n",
      "  1 ♖ ♘ ♗ ♕ ♔\n",
      "    a  b  c  d  e  \n",
      "\n",
      "\n"
     ]
    }
   ],
   "source": [
    "logic.execute_move((44,29),player2)\n",
    "g.display(logic.pieces_without_padding())"
   ]
  },
  {
   "cell_type": "markdown",
   "metadata": {},
   "source": [
    "- White to take the horse \n",
    "- List legal moves and take the horse "
   ]
  },
  {
   "cell_type": "code",
   "execution_count": 9,
   "metadata": {},
   "outputs": [
    {
     "name": "stdout",
     "output_type": "stream",
     "text": [
      "\n",
      "All possible moves are: \n",
      "\n",
      "[(37, 30), (37, 29), (38, 31), (39, 32), (40, 33), (43, 36), (43, 29), (44, 29), (44, 31)]\n",
      "\n",
      "  5 ♜ ·  ♝ ♛ ♚\n",
      "  4 ♟ ♟ ♟ ♟ ♟\n",
      "  3 ♞ ·  ·  ·  · \n",
      "  2 ·  ♙ ♙ ♙ ♙\n",
      "  1 ♖ ♘ ♗ ♕ ♔\n",
      "    a  b  c  d  e  \n",
      "\n",
      "\n"
     ]
    }
   ],
   "source": [
    "print('\\nAll possible moves are: \\n')\n",
    "moves = []\n",
    "for move in logic.get_legal_moves(player1):\n",
    "    moves.append(move)\n",
    "print(moves)\n",
    "g.display(logic.pieces_without_padding())"
   ]
  },
  {
   "cell_type": "code",
   "execution_count": 10,
   "metadata": {},
   "outputs": [
    {
     "name": "stdout",
     "output_type": "stream",
     "text": [
      "\n",
      "  5 ♖ ·  ♗ ♕ ♔\n",
      "  4 ·  ♙ ♙ ♙ ♙\n",
      "  3 ♘ ·  ·  ·  · \n",
      "  2 ♟ ♟ ♟ ♟ ♟\n",
      "  1 ♜ ·  ♝ ♛ ♚\n",
      "    a  b  c  d  e  \n",
      "\n",
      "\n",
      "\n",
      "All possible moves are: \n",
      "\n",
      "[(36, 28), (37, 30), (37, 29), (38, 31), (39, 32), (40, 33), (40, 34), (43, 44), (43, 50), (43, 42), (45, 53), (45, 51), (46, 54), (46, 52), (46, 53), (47, 54), (47, 53), (47, 55), (47, 41), (47, 48)]\n"
     ]
    }
   ],
   "source": [
    "logic.execute_move((44,29),player1)\n",
    "g.display(logic.pieces_without_padding())\n",
    "print('\\nAll possible moves are: \\n')\n",
    "moves = []\n",
    "for move in logic.get_legal_moves(player2):\n",
    "    moves.append(move)\n",
    "print(moves)"
   ]
  },
  {
   "cell_type": "markdown",
   "metadata": {},
   "source": [
    "## Section 5 - Play all pieces one by one and validate (Pawn, Rook, King, Queen, Knight and Bishop)\n",
    "\n",
    "Refer the Grid to Make a move \n",
    "\n",
    "\n",
    "Overal Chess Grid 5X5 Looks like this:\n",
    "\n",
    "        # Chess GRID with Padding and Cell Number\n",
    "        # [0,  1,  2,  3,  4,  5,  6]\n",
    "        # [7,  8,  9,  10, 11, 12, 13]\n",
    "\n",
    "        # [14,   15, 16, 17, 18, 19,     20]\n",
    "        # [21,   22, 23, 24, 25, 26,     27]\n",
    "        # [28,   29, 30, 31, 32, 33,     34]\n",
    "        # [35,   36, 37, 38, 39, 40,     41]\n",
    "        # [42,   43, 44, 45, 46, 47,     48]\n",
    "\n",
    "        # [49, 50, 51, 52, 53, 54, 55]\n",
    "        # [56, 57, 58, 59, 60, 61, 62]\n",
    "        \n"
   ]
  },
  {
   "cell_type": "code",
   "execution_count": 11,
   "metadata": {},
   "outputs": [
    {
     "name": "stdout",
     "output_type": "stream",
     "text": [
      "\n",
      "  5 ♜ ·  ♝ ♛ ♚\n",
      "  4 ♟ ·  ♟ ♟ ♟\n",
      "  3 ♟ ·  ·  ·  · \n",
      "  2 ·  ♙ ♙ ♙ ♙\n",
      "  1 ♖ ·  ♗ ♕ ♔\n",
      "    a  b  c  d  e  \n",
      "\n",
      "\n",
      "\n",
      "All possible moves are: \n",
      "\n",
      "[(37, 30), (37, 23), (37, 29), (38, 31), (39, 32), (40, 33), (43, 36), (43, 29), (43, 44)]\n"
     ]
    }
   ],
   "source": [
    "logic.execute_move((37,29),player2)\n",
    "g.display(logic.pieces_without_padding())\n",
    "print('\\nAll possible moves are: \\n')\n",
    "moves = []\n",
    "for move in logic.get_legal_moves(player1):\n",
    "    moves.append(move)\n",
    "print(moves)"
   ]
  },
  {
   "cell_type": "code",
   "execution_count": 12,
   "metadata": {},
   "outputs": [
    {
     "name": "stdout",
     "output_type": "stream",
     "text": [
      "\n",
      "  5 ·  ·  ♗ ♕ ♔\n",
      "  4 ·  ♙ ♙ ♙ ♙\n",
      "  3 ♖ ·  ·  ·  · \n",
      "  2 ♟ ·  ♟ ♟ ♟\n",
      "  1 ♜ ·  ♝ ♛ ♚\n",
      "    a  b  c  d  e  \n",
      "\n",
      "\n",
      "\n",
      "All possible moves are: \n",
      "\n",
      "[(36, 28), (38, 31), (39, 32), (40, 33), (40, 34), (43, 44), (43, 50), (43, 42), (45, 53), (45, 51), (45, 37), (45, 29), (46, 54), (46, 52), (46, 53), (47, 54), (47, 53), (47, 55), (47, 41), (47, 48)]\n"
     ]
    }
   ],
   "source": [
    "logic.execute_move((43,29),player1)\n",
    "g.display(logic.pieces_without_padding())\n",
    "print('\\nAll possible moves are: \\n')\n",
    "moves = []\n",
    "for move in logic.get_legal_moves(player2):\n",
    "    moves.append(move)\n",
    "print(moves)"
   ]
  },
  {
   "cell_type": "code",
   "execution_count": 13,
   "metadata": {},
   "outputs": [
    {
     "name": "stdout",
     "output_type": "stream",
     "text": [
      "\n",
      "  5 ♜ ·  ·  ♛ ♚\n",
      "  4 ♟ ·  ♟ ♟ ♟\n",
      "  3 ♝ ·  ·  ·  · \n",
      "  2 ·  ♙ ♙ ♙ ♙\n",
      "  1 ·  ·  ♗ ♕ ♔\n",
      "    a  b  c  d  e  \n",
      "\n",
      "\n",
      "\n",
      "All possible moves for Player 1 are: \n",
      "\n",
      "[(37, 30), (37, 23), (37, 29), (38, 31), (39, 32), (40, 33)]\n"
     ]
    }
   ],
   "source": [
    "logic.execute_move((45,29),player2)\n",
    "g.display(logic.pieces_without_padding())\n",
    "\n",
    "print('\\nAll possible moves for Player 1 are: \\n')\n",
    "moves = []\n",
    "for move in logic.get_legal_moves(player1):\n",
    "    moves.append(move)\n",
    "print(moves)"
   ]
  },
  {
   "cell_type": "code",
   "execution_count": 14,
   "metadata": {},
   "outputs": [
    {
     "name": "stdout",
     "output_type": "stream",
     "text": [
      "\n",
      "  5 ·  ·  ♗ ♕ ♔\n",
      "  4 ·  ·  ♙ ♙ ♙\n",
      "  3 ♙ ·  ·  ·  · \n",
      "  2 ♟ ·  ♟ ♟ ♟\n",
      "  1 ♜ ·  ·  ♛ ♚\n",
      "    a  b  c  d  e  \n",
      "\n",
      "\n",
      "\n",
      "All possible moves for Player 2 are: \n",
      "\n",
      "[(36, 28), (38, 31), (39, 32), (40, 33), (40, 34), (43, 44), (43, 45), (43, 50), (43, 42), (46, 54), (46, 52), (46, 53), (46, 45), (46, 44), (47, 54), (47, 53), (47, 55), (47, 41), (47, 48)]\n"
     ]
    }
   ],
   "source": [
    "logic.execute_move((37,29),player1)\n",
    "g.display(logic.pieces_without_padding())\n",
    "\n",
    "print('\\nAll possible moves for Player 2 are: \\n')\n",
    "moves = []\n",
    "for move in logic.get_legal_moves(player2):\n",
    "    moves.append(move)\n",
    "print(moves)"
   ]
  },
  {
   "cell_type": "code",
   "execution_count": 15,
   "metadata": {},
   "outputs": [
    {
     "name": "stdout",
     "output_type": "stream",
     "text": [
      "\n",
      "  5 ♜ ♛ ·  ·  ♚\n",
      "  4 ♟ ·  ♟ ♟ ♟\n",
      "  3 ♙ ·  ·  ·  · \n",
      "  2 ·  ·  ♙ ♙ ♙\n",
      "  1 ·  ·  ♗ ♕ ♔\n",
      "    a  b  c  d  e  \n",
      "\n",
      "\n",
      "\n",
      "All possible moves for Player 1 are: \n",
      "\n",
      "[(38, 31), (39, 32), (40, 33), (45, 37)]\n"
     ]
    }
   ],
   "source": [
    "logic.execute_move((46,44),player2)\n",
    "g.display(logic.pieces_without_padding())\n",
    "\n",
    "print('\\nAll possible moves for Player 1 are: \\n')\n",
    "moves = []\n",
    "for move in logic.get_legal_moves(player1):\n",
    "    moves.append(move)\n",
    "print(moves)"
   ]
  },
  {
   "cell_type": "code",
   "execution_count": 16,
   "metadata": {},
   "outputs": [
    {
     "name": "stdout",
     "output_type": "stream",
     "text": [
      "\n",
      "  5 ·  ·  ♗ ♕ ♔\n",
      "  4 ·  ·  ♙ ·  ♙\n",
      "  3 ♙ ·  ·  ♙ · \n",
      "  2 ♟ ·  ♟ ♟ ♟\n",
      "  1 ♜ ♛ ·  ·  ♚\n",
      "    a  b  c  d  e  \n",
      "\n",
      "\n",
      "\n",
      "All possible moves for Player 2 are: \n",
      "\n",
      "[(36, 28), (38, 31), (38, 32), (40, 33), (40, 32), (40, 34), (43, 50), (43, 42), (44, 52), (44, 50), (44, 37), (44, 30), (44, 23), (44, 16), (44, 9), (44, 45), (44, 46), (44, 51), (47, 54), (47, 53), (47, 55), (47, 41), (47, 46), (47, 48)]\n"
     ]
    }
   ],
   "source": [
    "logic.execute_move((39,32),player1)\n",
    "g.display(logic.pieces_without_padding())\n",
    "\n",
    "print('\\nAll possible moves for Player 2 are: \\n')\n",
    "moves = []\n",
    "for move in logic.get_legal_moves(player2):\n",
    "    moves.append(move)\n",
    "print(moves)"
   ]
  },
  {
   "cell_type": "code",
   "execution_count": 17,
   "metadata": {},
   "outputs": [
    {
     "name": "stdout",
     "output_type": "stream",
     "text": [
      "\n",
      "  5 ♜ ·  ·  ·  ♚\n",
      "  4 ♟ ♛ ♟ ♟ ♟\n",
      "  3 ♙ ·  ·  ♙ · \n",
      "  2 ·  ·  ♙ ·  ♙\n",
      "  1 ·  ·  ♗ ♕ ♔\n",
      "    a  b  c  d  e  \n",
      "\n",
      "\n",
      "\n",
      "All possible moves for Player 1 are: \n",
      "\n",
      "[(29, 23), (32, 24), (32, 26), (38, 31), (40, 33), (45, 37), (45, 39), (45, 33), (46, 39), (47, 39)]\n"
     ]
    }
   ],
   "source": [
    "logic.execute_move((44,37),player2)\n",
    "g.display(logic.pieces_without_padding())\n",
    "\n",
    "print('\\nAll possible moves for Player 1 are: \\n')\n",
    "moves = []\n",
    "for move in logic.get_legal_moves(player1):\n",
    "    moves.append(move)\n",
    "print(moves)"
   ]
  },
  {
   "cell_type": "markdown",
   "metadata": {},
   "source": [
    "## Section 7 -  Check Pawn to reach last move and become Queuen\n"
   ]
  },
  {
   "cell_type": "code",
   "execution_count": 18,
   "metadata": {},
   "outputs": [
    {
     "name": "stdout",
     "output_type": "stream",
     "text": [
      "\n",
      "  5 ·  ·  ♗ ♕ ♔\n",
      "  4 ·  ·  ♙ ·  ♙\n",
      "  3 ♙ ·  ·  ·  · \n",
      "  2 ♟ ♛ ♙ ♟ ♟\n",
      "  1 ♜ ·  ·  ·  ♚\n",
      "    a  b  c  d  e  \n",
      "\n",
      "\n",
      "\n",
      "All possible moves for Player 2 are: \n",
      "\n",
      "[(36, 28), (37, 45), (37, 53), (37, 29), (37, 31), (37, 25), (37, 19), (37, 30), (37, 23), (37, 16), (37, 9), (37, 38), (37, 44), (37, 51), (39, 32), (39, 25), (40, 33), (40, 34), (43, 44), (43, 45), (43, 46), (47, 45), (43, 50), (43, 42), (47, 54), (47, 53), (47, 55), (47, 41), (47, 46), (47, 48)]\n"
     ]
    }
   ],
   "source": [
    "logic.execute_move((32,24),player1)\n",
    "g.display(logic.pieces_without_padding())\n",
    "\n",
    "print('\\nAll possible moves for Player 2 are: \\n')\n",
    "moves = []\n",
    "for move in logic.get_legal_moves(player2):\n",
    "    moves.append(move)\n",
    "print(moves)"
   ]
  },
  {
   "cell_type": "code",
   "execution_count": 19,
   "metadata": {},
   "outputs": [
    {
     "name": "stdout",
     "output_type": "stream",
     "text": [
      "\n",
      "  5 ♜ ·  ·  ·  ♚\n",
      "  4 ♟ ·  ♙ ♟ ♟\n",
      "  3 ♙ ·  ·  ·  · \n",
      "  2 ·  ·  ♙ ♛ ♙\n",
      "  1 ·  ·  ♗ ♕ ♔\n",
      "    a  b  c  d  e  \n",
      "\n",
      "\n",
      "\n",
      "All possible moves for Player 1 are: \n",
      "\n",
      "[(24, 17), (38, 31), (40, 33), (45, 37), (45, 39), (46, 39), (47, 39)]\n"
     ]
    }
   ],
   "source": [
    "logic.execute_move((37,25),player2)\n",
    "g.display(logic.pieces_without_padding())\n",
    "\n",
    "print('\\nAll possible moves for Player 1 are: \\n')\n",
    "moves = []\n",
    "for move in logic.get_legal_moves(player1):\n",
    "    moves.append(move)\n",
    "print(moves)"
   ]
  },
  {
   "cell_type": "code",
   "execution_count": 20,
   "metadata": {},
   "outputs": [
    {
     "name": "stdout",
     "output_type": "stream",
     "text": [
      "\n",
      "  5 ·  ·  ♗ ♕ ♔\n",
      "  4 ·  ·  ♙ ♛ ♙\n",
      "  3 ♙ ·  ·  ·  · \n",
      "  2 ♟ ·  ·  ♟ ♟\n",
      "  1 ♜ ·  ♕ ·  ♚\n",
      "    a  b  c  d  e  \n",
      "\n",
      "\n",
      "\n",
      "All possible moves for Player 2 are: \n",
      "\n",
      "[(25, 33), (25, 41), (25, 31), (25, 37), (25, 17), (25, 19), (25, 18), (25, 26), (25, 32), (25, 24), (36, 28), (39, 32), (40, 33), (40, 34), (43, 44), (43, 45), (43, 50), (43, 42), (47, 54), (47, 53), (47, 55), (47, 41), (47, 46), (47, 48)]\n"
     ]
    }
   ],
   "source": [
    "logic.execute_move((24,17),player1)\n",
    "g.display(logic.pieces_without_padding())\n",
    "\n",
    "print('\\nAll possible moves for Player 2 are: \\n')\n",
    "moves = []\n",
    "for move in logic.get_legal_moves(player2):\n",
    "    moves.append(move)\n",
    "print(moves)"
   ]
  },
  {
   "cell_type": "markdown",
   "metadata": {},
   "source": [
    "## Section 8 - Complete the Game and check the winner\n"
   ]
  },
  {
   "cell_type": "code",
   "execution_count": 21,
   "metadata": {},
   "outputs": [
    {
     "name": "stdout",
     "output_type": "stream",
     "text": [
      "\n",
      "  5 ♜ ·  ♕ ·  ♚\n",
      "  4 ♟ ·  ·  ♟ ♟\n",
      "  3 ♙ ·  ·  ·  · \n",
      "  2 ·  ·  ♙ ·  ♙\n",
      "  1 ·  ·  ♗ ♕ ♛\n",
      "    a  b  c  d  e  \n",
      "\n",
      "\n",
      "\n",
      "All possible moves for Player 1 are: \n",
      "\n",
      "[(17, 25), (17, 23), (17, 18), (17, 19), (17, 24), (17, 31), (17, 16), (17, 15), (38, 31), (38, 24), (40, 33), (45, 37), (45, 39), (45, 33), (46, 39), (46, 32), (46, 25), (46, 47)]\n"
     ]
    }
   ],
   "source": [
    "logic.execute_move((25,19),player2)\n",
    "g.display(logic.pieces_without_padding())\n",
    "\n",
    "print('\\nAll possible moves for Player 1 are: \\n')\n",
    "moves = []\n",
    "for move in logic.get_legal_moves(player1):\n",
    "    moves.append(move)\n",
    "print(moves)\n"
   ]
  },
  {
   "cell_type": "code",
   "execution_count": 22,
   "metadata": {},
   "outputs": [
    {
     "name": "stdout",
     "output_type": "stream",
     "text": [
      "True\n",
      "False\n",
      "0\n"
     ]
    }
   ],
   "source": [
    "print(logic.is_win(player2))\n",
    "print(logic.is_win(player1))\n",
    "print(g.getGameEnded(logic.pieces_without_padding(),player2))"
   ]
  }
 ],
 "metadata": {
  "kernelspec": {
   "display_name": "Python 3",
   "language": "python",
   "name": "python3"
  },
  "language_info": {
   "codemirror_mode": {
    "name": "ipython",
    "version": 3
   },
   "file_extension": ".py",
   "mimetype": "text/x-python",
   "name": "python",
   "nbconvert_exporter": "python",
   "pygments_lexer": "ipython3",
   "version": "3.6.5"
  }
 },
 "nbformat": 4,
 "nbformat_minor": 2
}
