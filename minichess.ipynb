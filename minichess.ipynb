{
 "cells": [
  {
   "cell_type": "markdown",
   "metadata": {},
   "source": [
    "# Scaling Up Alpha Zero General (Minichess)\n",
    "\n",
    "\n",
    "## Topics Covered \n",
    "\n",
    "1. Initializing and displaying the Minichess Board\n",
    "2. Checking whether game has ended or not\n",
    "3. Defining players Player 1 and Player 2\n",
    "4. Checking valid moves and mapping moves to Grid Points (to be enhanced to a3g5 format later)\n",
    "5. Play all pieces one by one and validate (Pawn, Rook, King, Queen, Knight and Bishop)\n",
    "6. Check Pawn cross attack\n",
    "7. Check Pawn to reach last move and become Queuen\n",
    "8. Complete the Game and check the winner\n",
    "\n",
    "\n",
    "\n",
    "## Section 1 - Initializing and displaying the Minichess Board\n",
    "\n",
    "\n",
    "- Load inital libraries"
   ]
  },
  {
   "cell_type": "code",
   "execution_count": 1,
   "metadata": {
    "scrolled": true
   },
   "outputs": [
    {
     "name": "stderr",
     "output_type": "stream",
     "text": [
      "c:\\users\\karthik\\appdata\\local\\programs\\python\\python36\\lib\\site-packages\\h5py\\__init__.py:36: FutureWarning: Conversion of the second argument of issubdtype from `float` to `np.floating` is deprecated. In future, it will be treated as `np.float64 == np.dtype(float).type`.\n",
      "  from ._conv import register_converters as _register_converters\n",
      "Using TensorFlow backend.\n"
     ]
    }
   ],
   "source": [
    "from Coach import Coach\n",
    "from minichess.GardnerMiniChessGame import GardnerMiniChessGame as Game\n",
    "from minichess.MiniChessLogic import Board\n",
    "from minichess.keras.NNet import NNetWrapper as nn\n",
    "from utils import *\n",
    "import numpy as np"
   ]
  },
  {
   "cell_type": "markdown",
   "metadata": {},
   "source": [
    "- Load the Game and required Neural Network"
   ]
  },
  {
   "cell_type": "code",
   "execution_count": 2,
   "metadata": {},
   "outputs": [
    {
     "name": "stdout",
     "output_type": "stream",
     "text": [
      "[[  -479   -280   -320   -929 -60000]\n",
      " [  -100   -100   -100   -100   -100]\n",
      " [     0      0      0      0      0]\n",
      " [   100    100    100    100    100]\n",
      " [   479    280    320    929  60000]]\n"
     ]
    }
   ],
   "source": [
    "g = Game()\n",
    "nnet = nn(g)\n",
    "board = g.getInitBoard()    \n",
    "n = 5 # 5X5 Grid\n",
    "logic = Board(n,board)\n",
    "print(np.array(board))"
   ]
  },
  {
   "cell_type": "markdown",
   "metadata": {},
   "source": [
    "## Section 2 - Checking whether game has ended or not\n",
    "\n",
    "- Verify the Canonical and User Board"
   ]
  },
  {
   "cell_type": "code",
   "execution_count": 3,
   "metadata": {},
   "outputs": [
    {
     "ename": "TypeError",
     "evalue": "display() missing 1 required positional argument: 'player'",
     "traceback": [
      "\u001b[1;31m---------------------------------------------------------------------------\u001b[0m",
      "\u001b[1;31mTypeError\u001b[0m                                 Traceback (most recent call last)",
      "\u001b[1;32m<ipython-input-3-1c914fc1972b>\u001b[0m in \u001b[0;36m<module>\u001b[1;34m()\u001b[0m\n\u001b[0;32m      1\u001b[0m \u001b[0mplayer1\u001b[0m \u001b[1;33m=\u001b[0m \u001b[1;36m1\u001b[0m\u001b[1;33m\u001b[0m\u001b[0m\n\u001b[0;32m      2\u001b[0m \u001b[0mplayer2\u001b[0m \u001b[1;33m=\u001b[0m \u001b[1;33m-\u001b[0m\u001b[1;36m1\u001b[0m\u001b[1;33m\u001b[0m\u001b[0m\n\u001b[1;32m----> 3\u001b[1;33m \u001b[0mg\u001b[0m\u001b[1;33m.\u001b[0m\u001b[0mdisplay\u001b[0m\u001b[1;33m(\u001b[0m\u001b[0mboard\u001b[0m\u001b[1;33m)\u001b[0m\u001b[1;33m\u001b[0m\u001b[0m\n\u001b[0m",
      "\u001b[1;31mTypeError\u001b[0m: display() missing 1 required positional argument: 'player'"
     ],
     "output_type": "error"
    }
   ],
   "source": [
    "player1 = 1\n",
    "player2 = -1\n",
    "g.display(board)"
   ]
  },
  {
   "cell_type": "markdown",
   "metadata": {},
   "source": [
    "- Check whether Game is ended\n",
    "- It should return 0 since Game is still in Valid state"
   ]
  },
  {
   "cell_type": "code",
   "execution_count": null,
   "metadata": {},
   "outputs": [],
   "source": [
    "print(g.getGameEnded(board,player1))"
   ]
  },
  {
   "cell_type": "markdown",
   "metadata": {},
   "source": [
    "## Section 4 - Checking valid moves and mapping moves to Grid Points (to be enhanced to a3g5 format later)\n",
    "\n",
    "- Check the next legal move we can do\n",
    "- It Should list all Pawn moves for White and Horse moves\n",
    "\n",
    "[(36, 29), (37, 30), (38, 31), (39, 32), (40, 33), (44, 29), (44, 31)]\n",
    "\n",
    "\n",
    "\n",
    "Overal Chess Grid 5X5 Looks like this:\n",
    "\n",
    "        # Chess GRID with Padding and Cell Number\n",
    "        # [0,  1,  2,  3,  4,  5,  6]\n",
    "        # [7,  8,  9,  10, 11, 12, 13]\n",
    "\n",
    "        # [14,   15, 16, 17, 18, 19,     20]\n",
    "        # [21,   22, 23, 24, 25, 26,     27]\n",
    "        # [28,   29, 30, 31, 32, 33,     34]\n",
    "        # [35,   36, 37, 38, 39, 40,     41]\n",
    "        # [42,   43, 44, 45, 46, 47,     48]\n",
    "\n",
    "        # [49, 50, 51, 52, 53, 54, 55]\n",
    "        # [56, 57, 58, 59, 60, 61, 62]\n"
   ]
  },
  {
   "cell_type": "code",
   "execution_count": null,
   "metadata": {},
   "outputs": [],
   "source": [
    "print('\\nAll possible moves are: \\n')\n",
    "moves = []\n",
    "for move in logic.get_legal_moves(player1):\n",
    "    moves.append(move)\n",
    "print(moves)\n",
    "g.display(board)    "
   ]
  },
  {
   "cell_type": "markdown",
   "metadata": {},
   "source": [
    "- Execute first move by moving the White Pawn from a2 to a3 \n",
    "\n",
    "move = (36,29)"
   ]
  },
  {
   "cell_type": "code",
   "execution_count": null,
   "metadata": {},
   "outputs": [],
   "source": [
    "logic.execute_move((36,29),player1)\n",
    "g.display(logic.pieces_without_padding())"
   ]
  },
  {
   "cell_type": "markdown",
   "metadata": {},
   "source": [
    "- Assign Player 2 as -1\n",
    "- Get Legal moves for Player 2\n",
    "- Execute one pawn Move"
   ]
  },
  {
   "cell_type": "code",
   "execution_count": null,
   "metadata": {},
   "outputs": [],
   "source": [
    "player2 = -1\n",
    "print('\\nAll possible moves are: \\n')\n",
    "moves = []\n",
    "for move in logic.get_legal_moves(player2):\n",
    "    moves.append(move)\n",
    "print(moves)\n",
    "g.display(logic.pieces_without_padding())"
   ]
  },
  {
   "cell_type": "markdown",
   "metadata": {},
   "source": [
    "## Section 4 - Checking valid moves and mapping moves to Grid Points (to be enhanced to a3g5 format later)\n",
    "\n",
    "Overal Chess Grid 5X5 Looks like this:\n",
    "\n",
    "        # Chess GRID with Padding and Cell Number\n",
    "        # [0,  1,  2,  3,  4,  5,  6]\n",
    "        # [7,  8,  9,  10, 11, 12, 13]\n",
    "\n",
    "        # [14,   15, 16, 17, 18, 19,     20]\n",
    "        # [21,   22, 23, 24, 25, 26,     27]\n",
    "        # [28,   29, 30, 31, 32, 33,     34]\n",
    "        # [35,   36, 37, 38, 39, 40,     41]\n",
    "        # [42,   43, 44, 45, 46, 47,     48]\n",
    "\n",
    "        # [49, 50, 51, 52, 53, 54, 55]\n",
    "        # [56, 57, 58, 59, 60, 61, 62]\n",
    "        \n",
    "Now make a horse move from b1 to a3"
   ]
  },
  {
   "cell_type": "code",
   "execution_count": null,
   "metadata": {},
   "outputs": [],
   "source": [
    "logic.execute_move((44,29),player2)\n",
    "g.display(logic.pieces_without_padding())"
   ]
  },
  {
   "cell_type": "markdown",
   "metadata": {},
   "source": [
    "- White to take the horse \n",
    "- List legal moves and take the horse "
   ]
  },
  {
   "cell_type": "code",
   "execution_count": null,
   "metadata": {},
   "outputs": [],
   "source": [
    "print('\\nAll possible moves are: \\n')\n",
    "moves = []\n",
    "for move in logic.get_legal_moves(player1):\n",
    "    moves.append(move)\n",
    "print(moves)\n",
    "g.display(logic.pieces_without_padding())"
   ]
  },
  {
   "cell_type": "code",
   "execution_count": null,
   "metadata": {},
   "outputs": [],
   "source": [
    "logic.execute_move((44,29),player1)\n",
    "g.display(logic.pieces_without_padding())\n",
    "print('\\nAll possible moves are: \\n')\n",
    "moves = []\n",
    "for move in logic.get_legal_moves(player2):\n",
    "    moves.append(move)\n",
    "print(moves)"
   ]
  },
  {
   "cell_type": "markdown",
   "metadata": {},
   "source": [
    "## Section 5 - Play all pieces one by one and validate (Pawn, Rook, King, Queen, Knight and Bishop)\n",
    "\n",
    "Refer the Grid to Make a move \n",
    "\n",
    "\n",
    "Overal Chess Grid 5X5 Looks like this:\n",
    "\n",
    "        # Chess GRID with Padding and Cell Number\n",
    "        # [0,  1,  2,  3,  4,  5,  6]\n",
    "        # [7,  8,  9,  10, 11, 12, 13]\n",
    "\n",
    "        # [14,   15, 16, 17, 18, 19,     20]\n",
    "        # [21,   22, 23, 24, 25, 26,     27]\n",
    "        # [28,   29, 30, 31, 32, 33,     34]\n",
    "        # [35,   36, 37, 38, 39, 40,     41]\n",
    "        # [42,   43, 44, 45, 46, 47,     48]\n",
    "\n",
    "        # [49, 50, 51, 52, 53, 54, 55]\n",
    "        # [56, 57, 58, 59, 60, 61, 62]\n",
    "        \n"
   ]
  },
  {
   "cell_type": "code",
   "execution_count": null,
   "metadata": {},
   "outputs": [],
   "source": [
    "logic.execute_move((37,29),player2)\n",
    "g.display(logic.pieces_without_padding())\n",
    "print('\\nAll possible moves are: \\n')\n",
    "moves = []\n",
    "for move in logic.get_legal_moves(player1):\n",
    "    moves.append(move)\n",
    "print(moves)"
   ]
  },
  {
   "cell_type": "code",
   "execution_count": null,
   "metadata": {},
   "outputs": [],
   "source": [
    "logic.execute_move((43,29),player1)\n",
    "g.display(logic.pieces_without_padding())\n",
    "print('\\nAll possible moves are: \\n')\n",
    "moves = []\n",
    "for move in logic.get_legal_moves(player2):\n",
    "    moves.append(move)\n",
    "print(moves)"
   ]
  },
  {
   "cell_type": "code",
   "execution_count": null,
   "metadata": {},
   "outputs": [],
   "source": [
    "logic.execute_move((45,29),player2)\n",
    "g.display(logic.pieces_without_padding())\n",
    "\n",
    "print('\\nAll possible moves for Player 1 are: \\n')\n",
    "moves = []\n",
    "for move in logic.get_legal_moves(player1):\n",
    "    moves.append(move)\n",
    "print(moves)"
   ]
  },
  {
   "cell_type": "code",
   "execution_count": null,
   "metadata": {},
   "outputs": [],
   "source": [
    "logic.execute_move((37,29),player1)\n",
    "g.display(logic.pieces_without_padding())\n",
    "\n",
    "print('\\nAll possible moves for Player 2 are: \\n')\n",
    "moves = []\n",
    "for move in logic.get_legal_moves(player2):\n",
    "    moves.append(move)\n",
    "print(moves)"
   ]
  },
  {
   "cell_type": "code",
   "execution_count": null,
   "metadata": {},
   "outputs": [],
   "source": [
    "logic.execute_move((46,44),player2)\n",
    "g.display(logic.pieces_without_padding())\n",
    "\n",
    "print('\\nAll possible moves for Player 1 are: \\n')\n",
    "moves = []\n",
    "for move in logic.get_legal_moves(player1):\n",
    "    moves.append(move)\n",
    "print(moves)"
   ]
  },
  {
   "cell_type": "code",
   "execution_count": null,
   "metadata": {},
   "outputs": [],
   "source": [
    "logic.execute_move((39,32),player1)\n",
    "g.display(logic.pieces_without_padding())\n",
    "\n",
    "print('\\nAll possible moves for Player 2 are: \\n')\n",
    "moves = []\n",
    "for move in logic.get_legal_moves(player2):\n",
    "    moves.append(move)\n",
    "print(moves)"
   ]
  },
  {
   "cell_type": "code",
   "execution_count": null,
   "metadata": {},
   "outputs": [],
   "source": [
    "logic.execute_move((44,37),player2)\n",
    "g.display(logic.pieces_without_padding())\n",
    "\n",
    "print('\\nAll possible moves for Player 1 are: \\n')\n",
    "moves = []\n",
    "for move in logic.get_legal_moves(player1):\n",
    "    moves.append(move)\n",
    "print(moves)"
   ]
  },
  {
   "cell_type": "markdown",
   "metadata": {},
   "source": [
    "## Section 7 -  Check Pawn to reach last move and become Queuen\n"
   ]
  },
  {
   "cell_type": "code",
   "execution_count": null,
   "metadata": {},
   "outputs": [],
   "source": [
    "logic.execute_move((32,24),player1)\n",
    "g.display(logic.pieces_without_padding())\n",
    "\n",
    "print('\\nAll possible moves for Player 2 are: \\n')\n",
    "moves = []\n",
    "for move in logic.get_legal_moves(player2):\n",
    "    moves.append(move)\n",
    "print(moves)"
   ]
  },
  {
   "cell_type": "code",
   "execution_count": null,
   "metadata": {},
   "outputs": [],
   "source": [
    "logic.execute_move((37,25),player2)\n",
    "g.display(logic.pieces_without_padding())\n",
    "\n",
    "print('\\nAll possible moves for Player 1 are: \\n')\n",
    "moves = []\n",
    "for move in logic.get_legal_moves(player1):\n",
    "    moves.append(move)\n",
    "print(moves)"
   ]
  },
  {
   "cell_type": "code",
   "execution_count": null,
   "metadata": {},
   "outputs": [],
   "source": [
    "logic.execute_move((24,17),player1)\n",
    "g.display(logic.pieces_without_padding())\n",
    "\n",
    "print('\\nAll possible moves for Player 2 are: \\n')\n",
    "moves = []\n",
    "for move in logic.get_legal_moves(player2):\n",
    "    moves.append(move)\n",
    "print(moves)"
   ]
  },
  {
   "cell_type": "markdown",
   "metadata": {},
   "source": [
    "## Section 8 - Complete the Game and check the winner\n"
   ]
  },
  {
   "cell_type": "code",
   "execution_count": null,
   "metadata": {},
   "outputs": [],
   "source": [
    "logic.execute_move((25,19),player2)\n",
    "g.display(logic.pieces_without_padding())\n",
    "\n",
    "print('\\nAll possible moves for Player 1 are: \\n')\n",
    "moves = []\n",
    "for move in logic.get_legal_moves(player1):\n",
    "    moves.append(move)\n",
    "print(moves)\n"
   ]
  },
  {
   "cell_type": "code",
   "execution_count": null,
   "metadata": {},
   "outputs": [],
   "source": [
    "print(logic.is_win(player2))\n",
    "print(logic.is_win(player1))\n",
    "print(g.getGameEnded(logic.pieces_without_padding(),player2))"
   ]
  },
  {
   "cell_type": "markdown",
   "metadata": {},
   "source": [
    "## Section 9 - Normalize Actions to Ids \n",
    "\n",
    "- Every piece can take any position in 5 X 5 Grid \n",
    "- Queen Can move diagonally and straig from every cell (0,0), (0,1) .... (3,1) ... (4,4) \n",
    "- Similarly every piece can move to all possible positions constrained by their rule\n",
    "- We will store two hash maps \n",
    "- Action Identifier to Actions   { 51: [\"Queen\", \"Cell 1\", \"Cell 10\"], ... }\n",
    "- Action to Action Identifier    { \"Queen:Cell1:Cell10\": 242, ... }"
   ]
  },
  {
   "cell_type": "code",
   "execution_count": null,
   "metadata": {},
   "outputs": [],
   "source": [
    "print(g.id_to_action[100])\n",
    "print(g.action_to_id[\"479:26:12\"])"
   ]
  },
  {
   "cell_type": "markdown",
   "metadata": {},
   "source": [
    "- Action size really huge compared to other board games because of different piece type and moves \n",
    "- This grows exponentially high once the board size starts growing (say n = 8)"
   ]
  },
  {
   "cell_type": "code",
   "execution_count": null,
   "metadata": {},
   "outputs": [],
   "source": [
    "print(len(g.id_to_action))"
   ]
  },
  {
   "cell_type": "markdown",
   "metadata": {},
   "source": [
    "## Section 10 - Get All Valid Moves in the MCTS consumable format\n",
    "\n",
    "Overal Chess Grid 5X5 Looks like this:\n",
    "\n",
    "        # Chess GRID with Padding and Cell Number\n",
    "        # [0,  1,  2,  3,  4,  5,  6]\n",
    "        # [7,  8,  9,  10, 11, 12, 13]\n",
    "\n",
    "        # [14,   15, 16, 17, 18, 19,     20]\n",
    "        # [21,   22, 23, 24, 25, 26,     27]\n",
    "        # [28,   29, 30, 31, 32, 33,     34]\n",
    "        # [35,   36, 37, 38, 39, 40,     41]\n",
    "        # [42,   43, 44, 45, 46, 47,     48]\n",
    "\n",
    "        # [49, 50, 51, 52, 53, 54, 55]\n",
    "        # [56, 57, 58, 59, 60, 61, 62]\n",
    "        "
   ]
  },
  {
   "cell_type": "code",
   "execution_count": null,
   "metadata": {},
   "outputs": [],
   "source": [
    "import numpy as np\n",
    "g = Game()\n",
    "nnet = nn(g)\n",
    "board = g.getInitBoard()    \n",
    "n = 5 # 5X5 Grid\n",
    "logic = Board(n,board)\n",
    "print(np.array(board))\n",
    "print('\\nAll possible moves for Player 2 are: \\n')\n",
    "moves = []\n",
    "for move in logic.get_legal_moves(player2):\n",
    "    moves.append(move)\n",
    "print(moves)\n",
    "print(len(g.action_to_id))\n",
    "valids = g.getValidMoves(board,player1)\n",
    "print(len(valids))\n",
    "count = 0\n",
    "for i in valids:\n",
    "    if i == 1: count += 1 \n",
    "print(count)\n",
    "print(len(moves))\n"
   ]
  },
  {
   "cell_type": "markdown",
   "metadata": {},
   "source": [
    "## Section 11 - Train with MCTS \n",
    "\n",
    "- Changed Neural Network activation from softmax to sigmoid due to vanishing gradients\n",
    "- Never use numpy array and python array mixed \n",
    "- Rotation and player switching in canonical board might be conufusing"
   ]
  },
  {
   "cell_type": "code",
   "execution_count": 4,
   "metadata": {},
   "outputs": [],
   "source": [
    "from Coach import Coach\n",
    "from minichess.GardnerMiniChessGame import GardnerMiniChessGame as Game\n",
    "from minichess.keras.NNet import NNetWrapper as nn\n",
    "from utils import *\n",
    "\n",
    "args = dotdict({\n",
    "    'numIters': 10,\n",
    "    'numEps': 5,\n",
    "    'tempThreshold': 15,\n",
    "    'updateThreshold': 0.6,\n",
    "    'maxlenOfQueue': 200,\n",
    "    'arenaCompare': 10,\n",
    "    'numMCTSSims': 25,\n",
    "    'cpuct': 1,\n",
    "    'checkpoint': './temp/',\n",
    "    'load_model': False,\n",
    "    'load_folder_file': ('/dev/models/8x100x50', 'best.pth.tar'),\n",
    "    'numItersForTrainExamplesHistory': 20,\n",
    "})\n",
    "\n",
    "g = Game()\n",
    "nnet = nn(g)\n",
    "c = Coach(g, nnet, args)\n"
   ]
  },
  {
   "cell_type": "code",
   "execution_count": null,
   "metadata": {},
   "outputs": [
    {
     "name": "stdout",
     "output_type": "stream",
     "text": [
      "\n",
      "♜ ♞ ♝ ♛ ♚\n",
      "♟ ♟ ♟ ♟ ♟\n",
      "·  ·  ·  ·  · \n",
      "♙ ♙ ♙ ♙ ♙\n",
      "♖ ♘ ♗ ♕ ♔\n",
      "\n",
      "♜ ♞ ♝ ♛ ♚\n",
      "♟ ♟ ♟ ♟ ♟\n",
      "♙ ·  ·  ·  · \n",
      "·  ♙ ♙ ♙ ♙\n",
      "♖ ♘ ♗ ♕ ♔\n",
      "\n",
      "♜ ·  ♝ ♛ ♚\n",
      "♟ ♟ ♟ ♟ ♟\n",
      "♙ ·  ♞ ·  · \n",
      "·  ♙ ♙ ♙ ♙\n",
      "♖ ♘ ♗ ♕ ♔\n",
      "\n",
      "♜ ·  ♝ ♛ ♚\n",
      "♟ ♟ ♟ ♟ ♟\n",
      "♙ ♙ ♞ ·  · \n",
      "·  ·  ♙ ♙ ♙\n",
      "♖ ♘ ♗ ♕ ♔\n",
      "\n",
      "♜ ·  ♝ ♛ ♚\n",
      "♟ ♟ ♟ ♟ ♟\n",
      "♙ ♙ ·  ·  · \n",
      "·  ·  ♙ ♙ ♞\n",
      "♖ ♘ ♗ ♕ ♔\n"
     ]
    }
   ],
   "source": [
    "c.executeEpisode()\n",
    "print()"
   ]
  },
  {
   "cell_type": "code",
   "execution_count": null,
   "metadata": {},
   "outputs": [],
   "source": []
  }
 ],
 "metadata": {
  "kernelspec": {
   "display_name": "Python 3",
   "language": "python",
   "name": "python3"
  },
  "language_info": {
   "codemirror_mode": {
    "name": "ipython",
    "version": 3
   },
   "file_extension": ".py",
   "mimetype": "text/x-python",
   "name": "python",
   "nbconvert_exporter": "python",
   "pygments_lexer": "ipython3",
   "version": "3.6.5"
  }
 },
 "nbformat": 4,
 "nbformat_minor": 2
}
